{
 "cells": [
  {
   "cell_type": "markdown",
   "id": "5f8966ad",
   "metadata": {},
   "source": [
    "## Clasificación de pixeles \n",
    "\n",
    "Utilize los datos de entrenamiento de CNN con 578 imagenes de resolucion de 30 metros, por lo que cada imagen es de 300 por 300 pixeles. \n",
    "\n",
    "Si cada pixel es un fila tengo aprox 50 millones de filas. \n",
    "\n",
    "- Clase 1 : presencia de Pinus radiata \n",
    "\n",
    "- Clase 0 : ausencia de Pinus radiata \n",
    "\n",
    "\n",
    "Columnas : canales Red, Green, Blue del pixel de las imagenes "
   ]
  },
  {
   "cell_type": "code",
   "execution_count": 2,
   "id": "238f9285",
   "metadata": {},
   "outputs": [
    {
     "data": {
      "text/html": [
       "<div>\n",
       "<style scoped>\n",
       "    .dataframe tbody tr th:only-of-type {\n",
       "        vertical-align: middle;\n",
       "    }\n",
       "\n",
       "    .dataframe tbody tr th {\n",
       "        vertical-align: top;\n",
       "    }\n",
       "\n",
       "    .dataframe thead th {\n",
       "        text-align: right;\n",
       "    }\n",
       "</style>\n",
       "<table border=\"1\" class=\"dataframe\">\n",
       "  <thead>\n",
       "    <tr style=\"text-align: right;\">\n",
       "      <th></th>\n",
       "      <th>clase</th>\n",
       "      <th>red</th>\n",
       "      <th>green</th>\n",
       "      <th>blue</th>\n",
       "    </tr>\n",
       "  </thead>\n",
       "  <tbody>\n",
       "    <tr>\n",
       "      <th>0</th>\n",
       "      <td>1</td>\n",
       "      <td>97.0</td>\n",
       "      <td>110.0</td>\n",
       "      <td>73.0</td>\n",
       "    </tr>\n",
       "    <tr>\n",
       "      <th>1</th>\n",
       "      <td>1</td>\n",
       "      <td>77.0</td>\n",
       "      <td>89.0</td>\n",
       "      <td>59.0</td>\n",
       "    </tr>\n",
       "    <tr>\n",
       "      <th>2</th>\n",
       "      <td>1</td>\n",
       "      <td>45.0</td>\n",
       "      <td>56.0</td>\n",
       "      <td>49.0</td>\n",
       "    </tr>\n",
       "    <tr>\n",
       "      <th>3</th>\n",
       "      <td>1</td>\n",
       "      <td>40.0</td>\n",
       "      <td>57.0</td>\n",
       "      <td>53.0</td>\n",
       "    </tr>\n",
       "    <tr>\n",
       "      <th>4</th>\n",
       "      <td>1</td>\n",
       "      <td>44.0</td>\n",
       "      <td>61.0</td>\n",
       "      <td>60.0</td>\n",
       "    </tr>\n",
       "    <tr>\n",
       "      <th>...</th>\n",
       "      <td>...</td>\n",
       "      <td>...</td>\n",
       "      <td>...</td>\n",
       "      <td>...</td>\n",
       "    </tr>\n",
       "    <tr>\n",
       "      <th>52019995</th>\n",
       "      <td>0</td>\n",
       "      <td>98.0</td>\n",
       "      <td>110.0</td>\n",
       "      <td>82.0</td>\n",
       "    </tr>\n",
       "    <tr>\n",
       "      <th>52019996</th>\n",
       "      <td>0</td>\n",
       "      <td>103.0</td>\n",
       "      <td>111.0</td>\n",
       "      <td>79.0</td>\n",
       "    </tr>\n",
       "    <tr>\n",
       "      <th>52019997</th>\n",
       "      <td>0</td>\n",
       "      <td>94.0</td>\n",
       "      <td>104.0</td>\n",
       "      <td>68.0</td>\n",
       "    </tr>\n",
       "    <tr>\n",
       "      <th>52019998</th>\n",
       "      <td>0</td>\n",
       "      <td>70.0</td>\n",
       "      <td>83.0</td>\n",
       "      <td>53.0</td>\n",
       "    </tr>\n",
       "    <tr>\n",
       "      <th>52019999</th>\n",
       "      <td>0</td>\n",
       "      <td>72.0</td>\n",
       "      <td>83.0</td>\n",
       "      <td>61.0</td>\n",
       "    </tr>\n",
       "  </tbody>\n",
       "</table>\n",
       "<p>52020000 rows × 4 columns</p>\n",
       "</div>"
      ],
      "text/plain": [
       "          clase    red  green  blue\n",
       "0             1   97.0  110.0  73.0\n",
       "1             1   77.0   89.0  59.0\n",
       "2             1   45.0   56.0  49.0\n",
       "3             1   40.0   57.0  53.0\n",
       "4             1   44.0   61.0  60.0\n",
       "...         ...    ...    ...   ...\n",
       "52019995      0   98.0  110.0  82.0\n",
       "52019996      0  103.0  111.0  79.0\n",
       "52019997      0   94.0  104.0  68.0\n",
       "52019998      0   70.0   83.0  53.0\n",
       "52019999      0   72.0   83.0  61.0\n",
       "\n",
       "[52020000 rows x 4 columns]"
      ]
     },
     "execution_count": 2,
     "metadata": {},
     "output_type": "execute_result"
    }
   ],
   "source": [
    "import numpy as np\n",
    "import pandas as pd\n",
    "data=pd.read_csv(\"dataset_pixeles.csv\")\n",
    "data"
   ]
  },
  {
   "cell_type": "code",
   "execution_count": 4,
   "id": "8a9b13ba",
   "metadata": {},
   "outputs": [
    {
     "data": {
      "text/plain": [
       "<AxesSubplot:xlabel='clase', ylabel='count'>"
      ]
     },
     "execution_count": 4,
     "metadata": {},
     "output_type": "execute_result"
    },
    {
     "data": {
      "image/png": "[encoded data removed]",
      "text/plain": [
       "<Figure size 432x288 with 1 Axes>"
      ]
     },
     "metadata": {
      "needs_background": "light"
     },
     "output_type": "display_data"
    }
   ],
   "source": [
    "import seaborn as sns\n",
    "sns.countplot(data=data, x=\"clase\")"
   ]
  },
  {
   "cell_type": "code",
   "execution_count": 5,
   "id": "1c3c49f0",
   "metadata": {},
   "outputs": [
    {
     "name": "stdout",
     "output_type": "stream",
     "text": [
      "Counter({0: 39686413, 1: 12333587})\n"
     ]
    }
   ],
   "source": [
    "import collections\n",
    "counter = collections.Counter(data[\"clase\"])\n",
    "print(counter)"
   ]
  },
  {
   "cell_type": "markdown",
   "id": "57eb8a2e",
   "metadata": {},
   "source": [
    "### Submuestra del los datos balanceada."
   ]
  },
  {
   "cell_type": "code",
   "execution_count": 6,
   "id": "92ab121d",
   "metadata": {},
   "outputs": [
    {
     "name": "stdout",
     "output_type": "stream",
     "text": [
      "Counter({1: 500000, 0: 500000})\n"
     ]
    }
   ],
   "source": [
    "df1 = data[data.clase==1].sample(500000)\n",
    "df0 = data[data.clase==0].sample(500000)\n",
    "data_balance = pd.concat([df1,df0])\n",
    "contar = collections.Counter(data_balance[\"clase\"])\n",
    "print(contar)"
   ]
  },
  {
   "cell_type": "markdown",
   "id": "9a60ec0a",
   "metadata": {},
   "source": [
    "## Estandarización de los datos "
   ]
  },
  {
   "cell_type": "code",
   "execution_count": 8,
   "id": "c320a549",
   "metadata": {},
   "outputs": [],
   "source": [
    "from sklearn.preprocessing import StandardScaler \n",
    "from sklearn.model_selection import train_test_split\n",
    "X = data_balance.drop([\"clase\"], axis=1)\n",
    "y = data_balance[\"clase\"]\n",
    "X_train, X_test, y_train, y_test = train_test_split(X, y)\n",
    "scaler = StandardScaler() \n",
    "scaler.fit(X_train)  \n",
    "X_train = scaler.transform(X_train)\n",
    "X_test = scaler.transform(X_test)"
   ]
  },
  {
   "cell_type": "markdown",
   "id": "dcdd47a3",
   "metadata": {},
   "source": [
    "## Clasificador con KNN "
   ]
  },
  {
   "cell_type": "code",
   "execution_count": 9,
   "id": "b0e0df99",
   "metadata": {},
   "outputs": [],
   "source": [
    "from sklearn.neighbors import KNeighborsClassifier\n",
    "KNN = KNeighborsClassifier()\n",
    "KNN.fit(X_train, y_train)\n",
    "y_pred = KNN.predict(X_test)"
   ]
  },
  {
   "cell_type": "code",
   "execution_count": 10,
   "id": "b99c2b01",
   "metadata": {},
   "outputs": [
    {
     "name": "stdout",
     "output_type": "stream",
     "text": [
      "              precision    recall  f1-score   support\n",
      "\n",
      "           0       0.68      0.68      0.68    124910\n",
      "           1       0.68      0.69      0.68    125090\n",
      "\n",
      "    accuracy                           0.68    250000\n",
      "   macro avg       0.68      0.68      0.68    250000\n",
      "weighted avg       0.68      0.68      0.68    250000\n",
      "\n"
     ]
    }
   ],
   "source": [
    "from sklearn.metrics import classification_report\n",
    "print(classification_report(y_test, y_pred))"
   ]
  },
  {
   "cell_type": "markdown",
   "id": "0ed0572b",
   "metadata": {},
   "source": [
    "## Clasificador con Ranfom Forest "
   ]
  },
  {
   "cell_type": "code",
   "execution_count": 11,
   "id": "fb33718e",
   "metadata": {},
   "outputs": [],
   "source": [
    "from sklearn.ensemble import RandomForestClassifier\n",
    "model1 = RandomForestClassifier()\n",
    "model1.fit(X_train, y_train) \n",
    "\n",
    "y_pred_RF = model1.predict(X_test)"
   ]
  },
  {
   "cell_type": "code",
   "execution_count": 12,
   "id": "a2ae05c1",
   "metadata": {},
   "outputs": [
    {
     "name": "stdout",
     "output_type": "stream",
     "text": [
      "              precision    recall  f1-score   support\n",
      "\n",
      "           0       0.69      0.66      0.67    124910\n",
      "           1       0.67      0.70      0.69    125090\n",
      "\n",
      "    accuracy                           0.68    250000\n",
      "   macro avg       0.68      0.68      0.68    250000\n",
      "weighted avg       0.68      0.68      0.68    250000\n",
      "\n"
     ]
    }
   ],
   "source": [
    "print(classification_report(y_test, y_pred_RF))"
   ]
  },
  {
   "cell_type": "code",
   "execution_count": null,
   "id": "7deedb96",
   "metadata": {},
   "outputs": [],
   "source": []
  }
 ],
 "metadata": {
  "kernelspec": {
   "display_name": "Python 3 (ipykernel)",
   "language": "python",
   "name": "python3"
  },
  "language_info": {
   "codemirror_mode": {
    "name": "ipython",
    "version": 3
   },
   "file_extension": ".py",
   "mimetype": "text/x-python",
   "name": "python",
   "nbconvert_exporter": "python",
   "pygments_lexer": "ipython3",
   "version": "3.8.2"
  }
 },
 "nbformat": 4,
 "nbformat_minor": 5
}
