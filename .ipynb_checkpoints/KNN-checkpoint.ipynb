{
 "cells": [
  {
   "cell_type": "code",
   "execution_count": 24,
   "id": "5852a4bf",
   "metadata": {},
   "outputs": [
    {
     "data": {
      "text/html": [
       "<div>\n",
       "<style scoped>\n",
       "    .dataframe tbody tr th:only-of-type {\n",
       "        vertical-align: middle;\n",
       "    }\n",
       "\n",
       "    .dataframe tbody tr th {\n",
       "        vertical-align: top;\n",
       "    }\n",
       "\n",
       "    .dataframe thead th {\n",
       "        text-align: right;\n",
       "    }\n",
       "</style>\n",
       "<table border=\"1\" class=\"dataframe\">\n",
       "  <thead>\n",
       "    <tr style=\"text-align: right;\">\n",
       "      <th></th>\n",
       "      <th>filename</th>\n",
       "      <th>label</th>\n",
       "      <th>X</th>\n",
       "      <th>Y</th>\n",
       "      <th>predict</th>\n",
       "    </tr>\n",
       "  </thead>\n",
       "  <tbody>\n",
       "    <tr>\n",
       "      <th>0</th>\n",
       "      <td>f6_020_068.tif</td>\n",
       "      <td>0.000</td>\n",
       "      <td>209186.7906</td>\n",
       "      <td>6082580.119</td>\n",
       "      <td>0.040971</td>\n",
       "    </tr>\n",
       "    <tr>\n",
       "      <th>1</th>\n",
       "      <td>f6_077_036.tif</td>\n",
       "      <td>0.144</td>\n",
       "      <td>208872.6546</td>\n",
       "      <td>6082020.564</td>\n",
       "      <td>0.567913</td>\n",
       "    </tr>\n",
       "    <tr>\n",
       "      <th>2</th>\n",
       "      <td>f6_067_036.tif</td>\n",
       "      <td>0.437</td>\n",
       "      <td>208872.6546</td>\n",
       "      <td>6082118.732</td>\n",
       "      <td>0.243965</td>\n",
       "    </tr>\n",
       "    <tr>\n",
       "      <th>3</th>\n",
       "      <td>f6_030_054.tif</td>\n",
       "      <td>0.288</td>\n",
       "      <td>209049.3561</td>\n",
       "      <td>6082481.952</td>\n",
       "      <td>0.291680</td>\n",
       "    </tr>\n",
       "    <tr>\n",
       "      <th>4</th>\n",
       "      <td>f6_036_039.tif</td>\n",
       "      <td>0.413</td>\n",
       "      <td>208902.1049</td>\n",
       "      <td>6082423.051</td>\n",
       "      <td>0.161206</td>\n",
       "    </tr>\n",
       "  </tbody>\n",
       "</table>\n",
       "</div>"
      ],
      "text/plain": [
       "         filename  label            X            Y   predict\n",
       "0  f6_020_068.tif  0.000  209186.7906  6082580.119  0.040971\n",
       "1  f6_077_036.tif  0.144  208872.6546  6082020.564  0.567913\n",
       "2  f6_067_036.tif  0.437  208872.6546  6082118.732  0.243965\n",
       "3  f6_030_054.tif  0.288  209049.3561  6082481.952  0.291680\n",
       "4  f6_036_039.tif  0.413  208902.1049  6082423.051  0.161206"
      ]
     },
     "execution_count": 24,
     "metadata": {},
     "output_type": "execute_result"
    }
   ],
   "source": [
    "import pandas as pd\n",
    "\n",
    "data = pd.read_csv('arquitectura100_KNN.csv')\n",
    "data.head()"
   ]
  },
  {
   "cell_type": "markdown",
   "id": "658ce399",
   "metadata": {},
   "source": [
    "## KNN para la imagen F6 , con sub-imágenes con resolución de 10 metros \n",
    "\n",
    "# Descripción de dataframe : \n",
    "\n",
    "- filename : nombre de las sub-imágenes formadas a partir de f6 \n",
    "- Label : % de cobertura real \n",
    "- X y Y : coordenadas del centro de la imagen \n",
    "- predict : predicción de CNN "
   ]
  },
  {
   "cell_type": "code",
   "execution_count": 25,
   "id": "b30add9e",
   "metadata": {},
   "outputs": [
    {
     "data": {
      "text/html": [
       "<div>\n",
       "<style scoped>\n",
       "    .dataframe tbody tr th:only-of-type {\n",
       "        vertical-align: middle;\n",
       "    }\n",
       "\n",
       "    .dataframe tbody tr th {\n",
       "        vertical-align: top;\n",
       "    }\n",
       "\n",
       "    .dataframe thead th {\n",
       "        text-align: right;\n",
       "    }\n",
       "</style>\n",
       "<table border=\"1\" class=\"dataframe\">\n",
       "  <thead>\n",
       "    <tr style=\"text-align: right;\">\n",
       "      <th></th>\n",
       "      <th>filename</th>\n",
       "      <th>label</th>\n",
       "      <th>X</th>\n",
       "      <th>Y</th>\n",
       "      <th>predict</th>\n",
       "    </tr>\n",
       "  </thead>\n",
       "  <tbody>\n",
       "    <tr>\n",
       "      <th>0</th>\n",
       "      <td>f6_020_068.tif</td>\n",
       "      <td>0.000</td>\n",
       "      <td>209186.7906</td>\n",
       "      <td>6082580.119</td>\n",
       "      <td>0.040971</td>\n",
       "    </tr>\n",
       "    <tr>\n",
       "      <th>1</th>\n",
       "      <td>f6_077_036.tif</td>\n",
       "      <td>0.144</td>\n",
       "      <td>208872.6546</td>\n",
       "      <td>6082020.564</td>\n",
       "      <td>0.567913</td>\n",
       "    </tr>\n",
       "    <tr>\n",
       "      <th>2</th>\n",
       "      <td>f6_067_036.tif</td>\n",
       "      <td>0.437</td>\n",
       "      <td>208872.6546</td>\n",
       "      <td>6082118.732</td>\n",
       "      <td>0.243965</td>\n",
       "    </tr>\n",
       "    <tr>\n",
       "      <th>3</th>\n",
       "      <td>f6_030_054.tif</td>\n",
       "      <td>0.288</td>\n",
       "      <td>209049.3561</td>\n",
       "      <td>6082481.952</td>\n",
       "      <td>0.291680</td>\n",
       "    </tr>\n",
       "    <tr>\n",
       "      <th>4</th>\n",
       "      <td>f6_036_039.tif</td>\n",
       "      <td>0.413</td>\n",
       "      <td>208902.1049</td>\n",
       "      <td>6082423.051</td>\n",
       "      <td>0.161206</td>\n",
       "    </tr>\n",
       "    <tr>\n",
       "      <th>...</th>\n",
       "      <td>...</td>\n",
       "      <td>...</td>\n",
       "      <td>...</td>\n",
       "      <td>...</td>\n",
       "      <td>...</td>\n",
       "    </tr>\n",
       "    <tr>\n",
       "      <th>628</th>\n",
       "      <td>f6_076_016.tif</td>\n",
       "      <td>0.454</td>\n",
       "      <td>208676.3197</td>\n",
       "      <td>6082030.381</td>\n",
       "      <td>0.342110</td>\n",
       "    </tr>\n",
       "    <tr>\n",
       "      <th>629</th>\n",
       "      <td>f6_092_017.tif</td>\n",
       "      <td>0.000</td>\n",
       "      <td>208686.1364</td>\n",
       "      <td>6081873.313</td>\n",
       "      <td>0.080869</td>\n",
       "    </tr>\n",
       "    <tr>\n",
       "      <th>630</th>\n",
       "      <td>f6_047_040.tif</td>\n",
       "      <td>0.443</td>\n",
       "      <td>208911.9216</td>\n",
       "      <td>6082315.067</td>\n",
       "      <td>0.195179</td>\n",
       "    </tr>\n",
       "    <tr>\n",
       "      <th>631</th>\n",
       "      <td>f6_036_034.tif</td>\n",
       "      <td>0.327</td>\n",
       "      <td>208853.0212</td>\n",
       "      <td>6082423.051</td>\n",
       "      <td>0.390088</td>\n",
       "    </tr>\n",
       "    <tr>\n",
       "      <th>632</th>\n",
       "      <td>f6_016_067.tif</td>\n",
       "      <td>0.616</td>\n",
       "      <td>209176.9738</td>\n",
       "      <td>6082619.386</td>\n",
       "      <td>0.244668</td>\n",
       "    </tr>\n",
       "  </tbody>\n",
       "</table>\n",
       "<p>633 rows × 5 columns</p>\n",
       "</div>"
      ],
      "text/plain": [
       "           filename  label            X            Y   predict\n",
       "0    f6_020_068.tif  0.000  209186.7906  6082580.119  0.040971\n",
       "1    f6_077_036.tif  0.144  208872.6546  6082020.564  0.567913\n",
       "2    f6_067_036.tif  0.437  208872.6546  6082118.732  0.243965\n",
       "3    f6_030_054.tif  0.288  209049.3561  6082481.952  0.291680\n",
       "4    f6_036_039.tif  0.413  208902.1049  6082423.051  0.161206\n",
       "..              ...    ...          ...          ...       ...\n",
       "628  f6_076_016.tif  0.454  208676.3197  6082030.381  0.342110\n",
       "629  f6_092_017.tif  0.000  208686.1364  6081873.313  0.080869\n",
       "630  f6_047_040.tif  0.443  208911.9216  6082315.067  0.195179\n",
       "631  f6_036_034.tif  0.327  208853.0212  6082423.051  0.390088\n",
       "632  f6_016_067.tif  0.616  209176.9738  6082619.386  0.244668\n",
       "\n",
       "[633 rows x 5 columns]"
      ]
     },
     "execution_count": 25,
     "metadata": {},
     "output_type": "execute_result"
    }
   ],
   "source": [
    "data=data.iloc[0:633]\n",
    "data"
   ]
  },
  {
   "cell_type": "code",
   "execution_count": 26,
   "id": "43d477d4",
   "metadata": {},
   "outputs": [],
   "source": [
    "#https://scikit-learn.org/stable/modules/generated/sklearn.neighbors.KNeighborsRegressor.html "
   ]
  },
  {
   "cell_type": "code",
   "execution_count": 27,
   "id": "daca4c8f",
   "metadata": {},
   "outputs": [],
   "source": [
    "from sklearn.model_selection import GridSearchCV\n",
    "from sklearn.preprocessing import StandardScaler \n",
    "from sklearn.neighbors import KNeighborsRegressor\n",
    "from sklearn.model_selection import train_test_split\n",
    "from sklearn.neighbors import KNeighborsRegressor\n",
    "\n",
    "X = data.iloc[:,[2,3]]\n",
    "y = data[\"label\"]\n",
    "X_train, X_test, y_train, y_test = train_test_split(X, y)\n",
    "model1 = KNeighborsRegressor() ## clasificador \n",
    "model1.fit(X_train, y_train) ## entrenamiento de datos \n",
    "\n",
    "y_pred = model1.predict(X_test)#Test"
   ]
  },
  {
   "cell_type": "code",
   "execution_count": 28,
   "id": "769d8dfc",
   "metadata": {},
   "outputs": [
    {
     "name": "stdout",
     "output_type": "stream",
     "text": [
      "MSE 0.06167463924528302\n",
      "R-cuadrado 0.13694286906525577\n",
      "RMSE 0.24834379244362645\n"
     ]
    }
   ],
   "source": [
    "from sklearn.metrics import mean_squared_error\n",
    "from sklearn.metrics import r2_score\n",
    "import numpy as np\n",
    "print(\"MSE\", mean_squared_error(y_test, y_pred))\n",
    "print(\"R-cuadrado\",r2_score(y_test, y_pred))\n",
    "print(\"RMSE\", np.sqrt(mean_squared_error(y_test, y_pred)))"
   ]
  },
  {
   "cell_type": "code",
   "execution_count": 29,
   "id": "2162f745",
   "metadata": {},
   "outputs": [
    {
     "data": {
      "text/plain": [
       "<matplotlib.collections.PathCollection at 0x12cf0ce50>"
      ]
     },
     "execution_count": 29,
     "metadata": {},
     "output_type": "execute_result"
    },
    {
     "data": {
      "image/png": "[encoded data removed]",
      "text/plain": [
       "<Figure size 432x288 with 1 Axes>"
      ]
     },
     "metadata": {
      "needs_background": "light"
     },
     "output_type": "display_data"
    }
   ],
   "source": [
    "import matplotlib.pyplot as plt\n",
    "plt.scatter(y_test,y_pred)"
   ]
  },
  {
   "cell_type": "markdown",
   "id": "eb45bbfa",
   "metadata": {},
   "source": [
    "## Validación cruzada con busqueda de paramátros de vecinos cercanos"
   ]
  },
  {
   "cell_type": "code",
   "execution_count": 30,
   "id": "dd95c3bc",
   "metadata": {},
   "outputs": [],
   "source": [
    "param_KNN = { \n",
    "    'n_neighbors': [3,5,10,15,50,80]\n",
    "}"
   ]
  },
  {
   "cell_type": "code",
   "execution_count": 31,
   "id": "4bbcb5d3",
   "metadata": {},
   "outputs": [
    {
     "name": "stdout",
     "output_type": "stream",
     "text": [
      "Best parametros {'n_neighbors': 15}\n",
      "MSE 0.05947469283018868\n",
      "R-cuadrado 0.16772828531504302\n",
      "RMSE 0.05947469283018868\n"
     ]
    }
   ],
   "source": [
    "#https://scikit-learn.org/stable/modules/model_evaluation.html#scoring-parameter\n",
    "modelo=KNeighborsRegressor()\n",
    "modelo_grid = GridSearchCV(estimator=modelo, param_grid=param_KNN, cv= 10,scoring=\"r2\",return_train_score=True)\n",
    "modelo_grid.fit(X_train,y_train)\n",
    "modelo_grid_best=modelo_grid.best_estimator_\n",
    "print(\"Best parametros\",modelo_grid.best_params_)\n",
    "y_pred=modelo_grid_best.predict(X_test)\n",
    "print(\"MSE\",mean_squared_error(y_test,y_pred))\n",
    "print(\"R-cuadrado\",r2_score(y_test,y_pred))\n",
    "print(\"RMSE\",mean_squared_error(y_test,y_pred))"
   ]
  },
  {
   "cell_type": "code",
   "execution_count": 32,
   "id": "70d53ad8",
   "metadata": {},
   "outputs": [
    {
     "data": {
      "text/plain": [
       "{'mean_fit_time': array([0.00214913, 0.00151124, 0.00139477, 0.00148036, 0.00173001,\n",
       "        0.00175846]),\n",
       " 'std_fit_time': array([6.74091457e-04, 1.27170611e-04, 8.03129148e-05, 1.69914164e-04,\n",
       "        1.12813001e-04, 1.08129292e-04]),\n",
       " 'mean_score_time': array([0.00204475, 0.001439  , 0.00140042, 0.00147107, 0.00183349,\n",
       "        0.00198512]),\n",
       " 'std_score_time': array([8.65950866e-04, 9.51213762e-05, 7.85062676e-05, 1.20039502e-04,\n",
       "        1.58680767e-04, 1.15695072e-04]),\n",
       " 'param_n_neighbors': masked_array(data=[3, 5, 10, 15, 50, 80],\n",
       "              mask=[False, False, False, False, False, False],\n",
       "        fill_value='?',\n",
       "             dtype=object),\n",
       " 'params': [{'n_neighbors': 3},\n",
       "  {'n_neighbors': 5},\n",
       "  {'n_neighbors': 10},\n",
       "  {'n_neighbors': 15},\n",
       "  {'n_neighbors': 50},\n",
       "  {'n_neighbors': 80}],\n",
       " 'split0_test_score': array([0.25650319, 0.29339417, 0.31486649, 0.368297  , 0.26943028,\n",
       "        0.1678876 ]),\n",
       " 'split1_test_score': array([0.18026625, 0.12847834, 0.10497736, 0.08862298, 0.16592678,\n",
       "        0.11798563]),\n",
       " 'split2_test_score': array([0.35833518, 0.33708327, 0.34177396, 0.3206998 , 0.24295699,\n",
       "        0.17613256]),\n",
       " 'split3_test_score': array([ 0.1838534 ,  0.07034182,  0.06396521,  0.14088258,  0.07615322,\n",
       "        -0.00091082]),\n",
       " 'split4_test_score': array([0.14835699, 0.19455216, 0.34094756, 0.3262275 , 0.10397015,\n",
       "        0.04112387]),\n",
       " 'split5_test_score': array([0.05900798, 0.00152922, 0.0242613 , 0.05391169, 0.11772162,\n",
       "        0.08716815]),\n",
       " 'split6_test_score': array([0.26465226, 0.14792991, 0.18974888, 0.13349979, 0.08426865,\n",
       "        0.04750004]),\n",
       " 'split7_test_score': array([0.12573051, 0.23790393, 0.23738661, 0.17515432, 0.11474711,\n",
       "        0.06018494]),\n",
       " 'split8_test_score': array([ 0.01611412, -0.04188028,  0.1183227 ,  0.14529629,  0.22339765,\n",
       "         0.15966165]),\n",
       " 'split9_test_score': array([0.38718581, 0.30874396, 0.25403231, 0.24289434, 0.15666945,\n",
       "        0.11931939]),\n",
       " 'mean_test_score': array([0.19800057, 0.16780765, 0.19902824, 0.19954863, 0.15552419,\n",
       "        0.0976053 ]),\n",
       " 'std_test_score': array([0.11400306, 0.1236839 , 0.11075347, 0.10292579, 0.06516299,\n",
       "        0.05723575]),\n",
       " 'rank_test_score': array([3, 4, 2, 1, 5, 6], dtype=int32),\n",
       " 'split0_train_score': array([0.61570392, 0.50729811, 0.3670887 , 0.30731345, 0.18593171,\n",
       "        0.12318291]),\n",
       " 'split1_train_score': array([0.60668685, 0.50082675, 0.38395286, 0.3379946 , 0.20023034,\n",
       "        0.13314693]),\n",
       " 'split2_train_score': array([0.61232548, 0.48611279, 0.36731841, 0.31275094, 0.19536246,\n",
       "        0.12703028]),\n",
       " 'split3_train_score': array([0.61620476, 0.4957075 , 0.39181078, 0.32978842, 0.20352159,\n",
       "        0.14146926]),\n",
       " 'split4_train_score': array([0.62496771, 0.49371189, 0.3738632 , 0.31305512, 0.21280214,\n",
       "        0.14396256]),\n",
       " 'split5_train_score': array([0.61462102, 0.51881216, 0.39665754, 0.34636723, 0.20966732,\n",
       "        0.14393354]),\n",
       " 'split6_train_score': array([0.62503529, 0.51483951, 0.37193593, 0.33697048, 0.2101809 ,\n",
       "        0.14839195]),\n",
       " 'split7_train_score': array([0.61935871, 0.48890447, 0.36870257, 0.32347872, 0.20908429,\n",
       "        0.14353444]),\n",
       " 'split8_train_score': array([0.62867261, 0.49474699, 0.39043511, 0.33333437, 0.20152332,\n",
       "        0.13380907]),\n",
       " 'split9_train_score': array([0.58922068, 0.49250178, 0.3682254 , 0.31575351, 0.19566744,\n",
       "        0.13283654]),\n",
       " 'mean_train_score': array([0.6152797 , 0.49934619, 0.37799905, 0.32568068, 0.20239715,\n",
       "        0.13712975]),\n",
       " 'std_train_score': array([0.01071515, 0.01039966, 0.01094502, 0.01244915, 0.00799396,\n",
       "        0.00788354])}"
      ]
     },
     "execution_count": 32,
     "metadata": {},
     "output_type": "execute_result"
    }
   ],
   "source": [
    "modelo_grid.cv_results_"
   ]
  },
  {
   "cell_type": "code",
   "execution_count": 22,
   "id": "69ea1b0b",
   "metadata": {},
   "outputs": [
    {
     "data": {
      "text/plain": [
       "array([ 0.04281368, -0.05604438,  0.00392028,  0.06029388,  0.09604191,\n",
       "        0.11579213])"
      ]
     },
     "execution_count": 22,
     "metadata": {},
     "output_type": "execute_result"
    }
   ],
   "source": [
    "modelo_grid.cv_results_[\"split0_test_score\"]"
   ]
  },
  {
   "cell_type": "code",
   "execution_count": 23,
   "id": "9f3065c5",
   "metadata": {},
   "outputs": [
    {
     "data": {
      "text/plain": [
       "0.042813679543795335"
      ]
     },
     "execution_count": 23,
     "metadata": {},
     "output_type": "execute_result"
    }
   ],
   "source": [
    "modelo_grid.cv_results_[\"split0_test_score\"][0]"
   ]
  },
  {
   "cell_type": "code",
   "execution_count": null,
   "id": "5315b104",
   "metadata": {},
   "outputs": [],
   "source": [
    "## ver como sacar el desempeño para comparar train y test "
   ]
  }
 ],
 "metadata": {
  "kernelspec": {
   "display_name": "Python 3 (ipykernel)",
   "language": "python",
   "name": "python3"
  },
  "language_info": {
   "codemirror_mode": {
    "name": "ipython",
    "version": 3
   },
   "file_extension": ".py",
   "mimetype": "text/x-python",
   "name": "python",
   "nbconvert_exporter": "python",
   "pygments_lexer": "ipython3",
   "version": "3.8.2"
  }
 },
 "nbformat": 4,
 "nbformat_minor": 5
}
