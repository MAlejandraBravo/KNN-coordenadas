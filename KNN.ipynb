{
 "cells": [
  {
   "cell_type": "code",
   "execution_count": 38,
   "id": "5852a4bf",
   "metadata": {},
   "outputs": [
    {
     "data": {
      "text/html": [
       "<div>\n",
       "<style scoped>\n",
       "    .dataframe tbody tr th:only-of-type {\n",
       "        vertical-align: middle;\n",
       "    }\n",
       "\n",
       "    .dataframe tbody tr th {\n",
       "        vertical-align: top;\n",
       "    }\n",
       "\n",
       "    .dataframe thead th {\n",
       "        text-align: right;\n",
       "    }\n",
       "</style>\n",
       "<table border=\"1\" class=\"dataframe\">\n",
       "  <thead>\n",
       "    <tr style=\"text-align: right;\">\n",
       "      <th></th>\n",
       "      <th>filename</th>\n",
       "      <th>label</th>\n",
       "      <th>X</th>\n",
       "      <th>Y</th>\n",
       "      <th>predict</th>\n",
       "    </tr>\n",
       "  </thead>\n",
       "  <tbody>\n",
       "    <tr>\n",
       "      <th>0</th>\n",
       "      <td>f6_020_068.tif</td>\n",
       "      <td>0.000</td>\n",
       "      <td>209186.7906</td>\n",
       "      <td>6082580.119</td>\n",
       "      <td>0.040971</td>\n",
       "    </tr>\n",
       "    <tr>\n",
       "      <th>1</th>\n",
       "      <td>f6_077_036.tif</td>\n",
       "      <td>0.144</td>\n",
       "      <td>208872.6546</td>\n",
       "      <td>6082020.564</td>\n",
       "      <td>0.567913</td>\n",
       "    </tr>\n",
       "    <tr>\n",
       "      <th>2</th>\n",
       "      <td>f6_067_036.tif</td>\n",
       "      <td>0.437</td>\n",
       "      <td>208872.6546</td>\n",
       "      <td>6082118.732</td>\n",
       "      <td>0.243965</td>\n",
       "    </tr>\n",
       "    <tr>\n",
       "      <th>3</th>\n",
       "      <td>f6_030_054.tif</td>\n",
       "      <td>0.288</td>\n",
       "      <td>209049.3561</td>\n",
       "      <td>6082481.952</td>\n",
       "      <td>0.291680</td>\n",
       "    </tr>\n",
       "    <tr>\n",
       "      <th>4</th>\n",
       "      <td>f6_036_039.tif</td>\n",
       "      <td>0.413</td>\n",
       "      <td>208902.1049</td>\n",
       "      <td>6082423.051</td>\n",
       "      <td>0.161206</td>\n",
       "    </tr>\n",
       "  </tbody>\n",
       "</table>\n",
       "</div>"
      ],
      "text/plain": [
       "         filename  label            X            Y   predict\n",
       "0  f6_020_068.tif  0.000  209186.7906  6082580.119  0.040971\n",
       "1  f6_077_036.tif  0.144  208872.6546  6082020.564  0.567913\n",
       "2  f6_067_036.tif  0.437  208872.6546  6082118.732  0.243965\n",
       "3  f6_030_054.tif  0.288  209049.3561  6082481.952  0.291680\n",
       "4  f6_036_039.tif  0.413  208902.1049  6082423.051  0.161206"
      ]
     },
     "execution_count": 38,
     "metadata": {},
     "output_type": "execute_result"
    }
   ],
   "source": [
    "import pandas as pd\n",
    "\n",
    "data = pd.read_csv('arquitectura100_KNN.csv')\n",
    "data.head()"
   ]
  },
  {
   "cell_type": "markdown",
   "id": "658ce399",
   "metadata": {},
   "source": [
    "## KNN para la imagen F6 , con sub-imágenes con resolución de 10 metros \n",
    "\n",
    "# Descripción de dataframe : \n",
    "\n",
    "- filename : nombre de las sub-imágenes formadas a partir de f6 \n",
    "- Label : % de cobertura real \n",
    "- X y Y : coordenadas del centro de la imagen \n",
    "- predict : predicción de CNN "
   ]
  },
  {
   "cell_type": "code",
   "execution_count": 39,
   "id": "b30add9e",
   "metadata": {},
   "outputs": [
    {
     "data": {
      "text/html": [
       "<div>\n",
       "<style scoped>\n",
       "    .dataframe tbody tr th:only-of-type {\n",
       "        vertical-align: middle;\n",
       "    }\n",
       "\n",
       "    .dataframe tbody tr th {\n",
       "        vertical-align: top;\n",
       "    }\n",
       "\n",
       "    .dataframe thead th {\n",
       "        text-align: right;\n",
       "    }\n",
       "</style>\n",
       "<table border=\"1\" class=\"dataframe\">\n",
       "  <thead>\n",
       "    <tr style=\"text-align: right;\">\n",
       "      <th></th>\n",
       "      <th>filename</th>\n",
       "      <th>label</th>\n",
       "      <th>X</th>\n",
       "      <th>Y</th>\n",
       "      <th>predict</th>\n",
       "    </tr>\n",
       "  </thead>\n",
       "  <tbody>\n",
       "    <tr>\n",
       "      <th>0</th>\n",
       "      <td>f6_020_068.tif</td>\n",
       "      <td>0.000</td>\n",
       "      <td>209186.7906</td>\n",
       "      <td>6082580.119</td>\n",
       "      <td>0.040971</td>\n",
       "    </tr>\n",
       "    <tr>\n",
       "      <th>1</th>\n",
       "      <td>f6_077_036.tif</td>\n",
       "      <td>0.144</td>\n",
       "      <td>208872.6546</td>\n",
       "      <td>6082020.564</td>\n",
       "      <td>0.567913</td>\n",
       "    </tr>\n",
       "    <tr>\n",
       "      <th>2</th>\n",
       "      <td>f6_067_036.tif</td>\n",
       "      <td>0.437</td>\n",
       "      <td>208872.6546</td>\n",
       "      <td>6082118.732</td>\n",
       "      <td>0.243965</td>\n",
       "    </tr>\n",
       "    <tr>\n",
       "      <th>3</th>\n",
       "      <td>f6_030_054.tif</td>\n",
       "      <td>0.288</td>\n",
       "      <td>209049.3561</td>\n",
       "      <td>6082481.952</td>\n",
       "      <td>0.291680</td>\n",
       "    </tr>\n",
       "    <tr>\n",
       "      <th>4</th>\n",
       "      <td>f6_036_039.tif</td>\n",
       "      <td>0.413</td>\n",
       "      <td>208902.1049</td>\n",
       "      <td>6082423.051</td>\n",
       "      <td>0.161206</td>\n",
       "    </tr>\n",
       "    <tr>\n",
       "      <th>...</th>\n",
       "      <td>...</td>\n",
       "      <td>...</td>\n",
       "      <td>...</td>\n",
       "      <td>...</td>\n",
       "      <td>...</td>\n",
       "    </tr>\n",
       "    <tr>\n",
       "      <th>628</th>\n",
       "      <td>f6_076_016.tif</td>\n",
       "      <td>0.454</td>\n",
       "      <td>208676.3197</td>\n",
       "      <td>6082030.381</td>\n",
       "      <td>0.342110</td>\n",
       "    </tr>\n",
       "    <tr>\n",
       "      <th>629</th>\n",
       "      <td>f6_092_017.tif</td>\n",
       "      <td>0.000</td>\n",
       "      <td>208686.1364</td>\n",
       "      <td>6081873.313</td>\n",
       "      <td>0.080869</td>\n",
       "    </tr>\n",
       "    <tr>\n",
       "      <th>630</th>\n",
       "      <td>f6_047_040.tif</td>\n",
       "      <td>0.443</td>\n",
       "      <td>208911.9216</td>\n",
       "      <td>6082315.067</td>\n",
       "      <td>0.195179</td>\n",
       "    </tr>\n",
       "    <tr>\n",
       "      <th>631</th>\n",
       "      <td>f6_036_034.tif</td>\n",
       "      <td>0.327</td>\n",
       "      <td>208853.0212</td>\n",
       "      <td>6082423.051</td>\n",
       "      <td>0.390088</td>\n",
       "    </tr>\n",
       "    <tr>\n",
       "      <th>632</th>\n",
       "      <td>f6_016_067.tif</td>\n",
       "      <td>0.616</td>\n",
       "      <td>209176.9738</td>\n",
       "      <td>6082619.386</td>\n",
       "      <td>0.244668</td>\n",
       "    </tr>\n",
       "  </tbody>\n",
       "</table>\n",
       "<p>633 rows × 5 columns</p>\n",
       "</div>"
      ],
      "text/plain": [
       "           filename  label            X            Y   predict\n",
       "0    f6_020_068.tif  0.000  209186.7906  6082580.119  0.040971\n",
       "1    f6_077_036.tif  0.144  208872.6546  6082020.564  0.567913\n",
       "2    f6_067_036.tif  0.437  208872.6546  6082118.732  0.243965\n",
       "3    f6_030_054.tif  0.288  209049.3561  6082481.952  0.291680\n",
       "4    f6_036_039.tif  0.413  208902.1049  6082423.051  0.161206\n",
       "..              ...    ...          ...          ...       ...\n",
       "628  f6_076_016.tif  0.454  208676.3197  6082030.381  0.342110\n",
       "629  f6_092_017.tif  0.000  208686.1364  6081873.313  0.080869\n",
       "630  f6_047_040.tif  0.443  208911.9216  6082315.067  0.195179\n",
       "631  f6_036_034.tif  0.327  208853.0212  6082423.051  0.390088\n",
       "632  f6_016_067.tif  0.616  209176.9738  6082619.386  0.244668\n",
       "\n",
       "[633 rows x 5 columns]"
      ]
     },
     "execution_count": 39,
     "metadata": {},
     "output_type": "execute_result"
    }
   ],
   "source": [
    "data=data.iloc[0:633]\n",
    "data"
   ]
  },
  {
   "cell_type": "code",
   "execution_count": 40,
   "id": "43d477d4",
   "metadata": {},
   "outputs": [],
   "source": [
    "#https://scikit-learn.org/stable/modules/generated/sklearn.neighbors.KNeighborsRegressor.html "
   ]
  },
  {
   "cell_type": "code",
   "execution_count": 41,
   "id": "daca4c8f",
   "metadata": {},
   "outputs": [],
   "source": [
    "from sklearn.model_selection import GridSearchCV\n",
    "from sklearn.preprocessing import StandardScaler \n",
    "from sklearn.neighbors import KNeighborsRegressor\n",
    "from sklearn.model_selection import train_test_split\n",
    "from sklearn.neighbors import KNeighborsRegressor\n",
    "\n",
    "X = data.iloc[:,[2,3]]\n",
    "y = data[\"label\"]\n",
    "X_train, X_test, y_train, y_test = train_test_split(X, y)\n",
    "model1 = KNeighborsRegressor() ## clasificador \n",
    "model1.fit(X_train, y_train) ## entrenamiento de datos \n",
    "\n",
    "y_pred = model1.predict(X_test)#Test"
   ]
  },
  {
   "cell_type": "code",
   "execution_count": 42,
   "id": "769d8dfc",
   "metadata": {},
   "outputs": [
    {
     "name": "stdout",
     "output_type": "stream",
     "text": [
      "MSE 0.054060773081761\n",
      "R-cuadrado 0.2714051051412806\n",
      "RMSE 0.23250972685408453\n"
     ]
    }
   ],
   "source": [
    "from sklearn.metrics import mean_squared_error\n",
    "from sklearn.metrics import r2_score\n",
    "import numpy as np\n",
    "print(\"MSE\", mean_squared_error(y_test, y_pred))\n",
    "print(\"R-cuadrado\",r2_score(y_test, y_pred))\n",
    "print(\"RMSE\", np.sqrt(mean_squared_error(y_test, y_pred)))"
   ]
  },
  {
   "cell_type": "code",
   "execution_count": 43,
   "id": "2162f745",
   "metadata": {},
   "outputs": [
    {
     "data": {
      "text/plain": [
       "<matplotlib.collections.PathCollection at 0x120f6ac70>"
      ]
     },
     "execution_count": 43,
     "metadata": {},
     "output_type": "execute_result"
    },
    {
     "data": {
      "image/png": "[encoded data removed]",
      "text/plain": [
       "<Figure size 432x288 with 1 Axes>"
      ]
     },
     "metadata": {
      "needs_background": "light"
     },
     "output_type": "display_data"
    }
   ],
   "source": [
    "import matplotlib.pyplot as plt\n",
    "plt.scatter(y_test,y_pred)"
   ]
  },
  {
   "cell_type": "markdown",
   "id": "eb45bbfa",
   "metadata": {},
   "source": [
    "## Validación cruzada con busqueda de paramátros de vecinos cercanos"
   ]
  },
  {
   "cell_type": "code",
   "execution_count": 44,
   "id": "dd95c3bc",
   "metadata": {},
   "outputs": [],
   "source": [
    "param_KNN = { \n",
    "    'n_neighbors': [3,5,10,15,50,80]\n",
    "}"
   ]
  },
  {
   "cell_type": "code",
   "execution_count": 45,
   "id": "0c5218a6",
   "metadata": {},
   "outputs": [
    {
     "name": "stdout",
     "output_type": "stream",
     "text": [
      "Best parametros {'n_neighbors': 10}\n",
      "Best parametros {'n_neighbors': 5}\n",
      "Best parametros {'n_neighbors': 10}\n",
      "Best parametros {'n_neighbors': 15}\n",
      "Best parametros {'n_neighbors': 15}\n"
     ]
    }
   ],
   "source": [
    "MSE=[]\n",
    "R2=[]\n",
    "RMSE=[]\n",
    "\n",
    "from sklearn.model_selection import KFold \n",
    "from sklearn import metrics\n",
    "kfold=KFold(n_splits = 5, shuffle =True)\n",
    "for indexTrainData, indexTestData in kfold.split(data):\n",
    "    X_train=data.iloc[indexTrainData,2:4]\n",
    "    y_train=data.iloc[indexTrainData,1]\n",
    "    X_test=data.iloc[indexTestData,2:4]\n",
    "    y_test=data.iloc[indexTestData,1]\n",
    "    \n",
    "    modelo=KNeighborsRegressor()\n",
    "    modelo_grid = GridSearchCV(estimator=modelo, param_grid=param_KNN, cv= 5)\n",
    "    modelo_grid.fit(X_train,y_train)\n",
    "    modelo_grid_best=modelo_grid.best_estimator_\n",
    "    print(\"Best parametros\",modelo_grid.best_params_)\n",
    "    y_pred=modelo_grid_best.predict(X_test)\n",
    "    MSE.append(mean_squared_error(y_test,y_pred))\n",
    "    R2.append(r2_score(y_test,y_pred))\n",
    "    RMSE.append(np.sqrt(mean_squared_error(y_test,y_pred)))"
   ]
  },
  {
   "cell_type": "code",
   "execution_count": 46,
   "id": "bc61c97f",
   "metadata": {},
   "outputs": [
    {
     "data": {
      "text/plain": [
       "[0.05692673992125984,\n",
       " 0.05005074803149606,\n",
       " 0.06202034165354331,\n",
       " 0.05043402962962962,\n",
       " 0.06024493738977073]"
      ]
     },
     "execution_count": 46,
     "metadata": {},
     "output_type": "execute_result"
    }
   ],
   "source": [
    "MSE"
   ]
  },
  {
   "cell_type": "code",
   "execution_count": 47,
   "id": "f2c749d5",
   "metadata": {},
   "outputs": [
    {
     "data": {
      "text/plain": [
       "[0.24030131529485832,\n",
       " 0.03391482663804435,\n",
       " 0.24779739531612288,\n",
       " 0.17130495992397177,\n",
       " 0.22918127266290012]"
      ]
     },
     "execution_count": 47,
     "metadata": {},
     "output_type": "execute_result"
    }
   ],
   "source": [
    "R2"
   ]
  },
  {
   "cell_type": "code",
   "execution_count": 48,
   "id": "8096228a",
   "metadata": {},
   "outputs": [
    {
     "data": {
      "text/plain": [
       "[0.23859325204468765,\n",
       " 0.22372024501930096,\n",
       " 0.24903883563320664,\n",
       " 0.22457522042654132,\n",
       " 0.24544844140831437]"
      ]
     },
     "execution_count": 48,
     "metadata": {},
     "output_type": "execute_result"
    }
   ],
   "source": [
    "RMSE"
   ]
  },
  {
   "cell_type": "code",
   "execution_count": 49,
   "id": "2943a0fb",
   "metadata": {},
   "outputs": [
    {
     "data": {
      "text/plain": [
       "<matplotlib.collections.PathCollection at 0x120fd1790>"
      ]
     },
     "execution_count": 49,
     "metadata": {},
     "output_type": "execute_result"
    },
    {
     "data": {
      "image/png": "[encoded data removed]",
      "text/plain": [
       "<Figure size 432x288 with 1 Axes>"
      ]
     },
     "metadata": {
      "needs_background": "light"
     },
     "output_type": "display_data"
    }
   ],
   "source": [
    "plt.scatter(y_test,y_pred)"
   ]
  },
  {
   "cell_type": "code",
   "execution_count": null,
   "id": "69ea1b0b",
   "metadata": {},
   "outputs": [],
   "source": []
  }
 ],
 "metadata": {
  "kernelspec": {
   "display_name": "Python 3 (ipykernel)",
   "language": "python",
   "name": "python3"
  },
  "language_info": {
   "codemirror_mode": {
    "name": "ipython",
    "version": 3
   },
   "file_extension": ".py",
   "mimetype": "text/x-python",
   "name": "python",
   "nbconvert_exporter": "python",
   "pygments_lexer": "ipython3",
   "version": "3.8.2"
  }
 },
 "nbformat": 4,
 "nbformat_minor": 5
}
